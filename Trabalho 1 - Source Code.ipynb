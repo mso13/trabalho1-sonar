{
 "cells": [
  {
   "cell_type": "code",
   "execution_count": 1,
   "metadata": {},
   "outputs": [],
   "source": [
    "# Trabalho 1\n",
    "\n",
    "# O problema será identificar se o sinal de sonar obtido (60 valores reais,\n",
    "# correspondentes a energia em diferentes bandas de frequência e ângulos de retorno) representa\n",
    "# uma rocha (“R”) ou uma mina (“M”)"
   ]
  },
  {
   "cell_type": "code",
   "execution_count": 2,
   "metadata": {},
   "outputs": [],
   "source": [
    "import pandas as pd\n",
    "import numpy as np\n",
    "import matplotlib.pyplot as plt\n",
    "from sklearn.metrics import confusion_matrix"
   ]
  },
  {
   "cell_type": "code",
   "execution_count": 3,
   "metadata": {},
   "outputs": [],
   "source": [
    "train_df = pd.read_csv('sonar.train-data', header=None)\n",
    "test_df  = pd.read_csv('sonar.test-data', header=None) "
   ]
  },
  {
   "cell_type": "code",
   "execution_count": 4,
   "metadata": {},
   "outputs": [
    {
     "data": {
      "text/plain": [
       "(145, 61)"
      ]
     },
     "execution_count": 4,
     "metadata": {},
     "output_type": "execute_result"
    }
   ],
   "source": [
    "#train_df.head()\n",
    "train_df.shape"
   ]
  },
  {
   "cell_type": "code",
   "execution_count": 5,
   "metadata": {},
   "outputs": [
    {
     "data": {
      "text/plain": [
       "(63, 61)"
      ]
     },
     "execution_count": 5,
     "metadata": {},
     "output_type": "execute_result"
    }
   ],
   "source": [
    "#test_df.head()\n",
    "test_df.shape"
   ]
  },
  {
   "cell_type": "code",
   "execution_count": 6,
   "metadata": {
    "scrolled": true
   },
   "outputs": [
    {
     "name": "stdout",
     "output_type": "stream",
     "text": [
      "       0       1       2       3       4       5       6       7       8   \\\n",
      "0  0.0264  0.0071  0.0342  0.0793  0.1043  0.0783  0.1417  0.1176  0.0453   \n",
      "1  0.0086  0.0215  0.0242  0.0445  0.0667  0.0771  0.0499  0.0906  0.1229   \n",
      "2  0.0394  0.0420  0.0446  0.0551  0.0597  0.1416  0.0956  0.0802  0.1618   \n",
      "3  0.0095  0.0308  0.0539  0.0411  0.0613  0.1039  0.1016  0.1394  0.2592   \n",
      "4  0.0310  0.0221  0.0433  0.0191  0.0964  0.1827  0.1106  0.1702  0.2804   \n",
      "\n",
      "       9  ...       51      52      53      54      55      56      57  \\\n",
      "0  0.0945 ...   0.0214  0.0262  0.0177  0.0037  0.0068  0.0121  0.0077   \n",
      "1  0.1185 ...   0.0072  0.0054  0.0022  0.0016  0.0029  0.0058  0.0050   \n",
      "2  0.2558 ...   0.0146  0.0040  0.0114  0.0032  0.0062  0.0101  0.0068   \n",
      "3  0.3745 ...   0.0181  0.0019  0.0102  0.0133  0.0040  0.0042  0.0030   \n",
      "4  0.4432 ...   0.0204  0.0059  0.0053  0.0079  0.0037  0.0015  0.0056   \n",
      "\n",
      "       58      59   60  \n",
      "0  0.0078  0.0066  1.0  \n",
      "1  0.0024  0.0030  0.0  \n",
      "2  0.0053  0.0087  1.0  \n",
      "3  0.0031  0.0033  1.0  \n",
      "4  0.0067  0.0054  1.0  \n",
      "\n",
      "[5 rows x 61 columns]\n",
      "       0       1       2       3       4       5       6       7       8   \\\n",
      "0  0.0363  0.0478  0.0298  0.0210  0.1409  0.1916  0.1349  0.1613  0.1703   \n",
      "1  0.0411  0.0277  0.0604  0.0525  0.0489  0.0385  0.0611  0.1117  0.1237   \n",
      "2  0.0132  0.0080  0.0188  0.0141  0.0436  0.0668  0.0609  0.0131  0.0899   \n",
      "3  0.0231  0.0315  0.0170  0.0226  0.0410  0.0116  0.0223  0.0805  0.2365   \n",
      "4  0.0015  0.0186  0.0289  0.0195  0.0515  0.0817  0.1005  0.0124  0.1168   \n",
      "\n",
      "       9  ...       51      52      53      54      55      56      57  \\\n",
      "0  0.1444 ...   0.0115  0.0190  0.0055  0.0096  0.0050  0.0066  0.0114   \n",
      "1  0.2300 ...   0.0217  0.0038  0.0019  0.0065  0.0132  0.0108  0.0050   \n",
      "2  0.0922 ...   0.0044  0.0028  0.0021  0.0022  0.0048  0.0138  0.0140   \n",
      "3  0.2461 ...   0.0125  0.0036  0.0123  0.0043  0.0114  0.0052  0.0091   \n",
      "4  0.1476 ...   0.0108  0.0075  0.0089  0.0036  0.0029  0.0013  0.0010   \n",
      "\n",
      "       58      59   60  \n",
      "0  0.0073  0.0033  1.0  \n",
      "1  0.0085  0.0044  1.0  \n",
      "2  0.0028  0.0064  0.0  \n",
      "3  0.0008  0.0092  1.0  \n",
      "4  0.0032  0.0047  1.0  \n",
      "\n",
      "[5 rows x 61 columns]\n"
     ]
    }
   ],
   "source": [
    "# Replacing char values by numerical ones\n",
    "cleanup_nums = {60: {\"M\": 1.0, \"R\": 0.0}}\n",
    "\n",
    "train_df.replace(cleanup_nums, inplace=True)\n",
    "test_df.replace(cleanup_nums, inplace=True)\n",
    "\n",
    "print (train_df.head())\n",
    "print (test_df.head())"
   ]
  },
  {
   "cell_type": "code",
   "execution_count": 7,
   "metadata": {
    "scrolled": true
   },
   "outputs": [
    {
     "name": "stdout",
     "output_type": "stream",
     "text": [
      "               0           1           2           3           4           5   \\\n",
      "count  145.000000  145.000000  145.000000  145.000000  145.000000  145.000000   \n",
      "mean     0.029547    0.037821    0.043738    0.054526    0.079002    0.110829   \n",
      "std      0.022255    0.034114    0.039538    0.048730    0.059642    0.063264   \n",
      "min      0.003600    0.000600    0.001500    0.006100    0.006700    0.010200   \n",
      "25%      0.015100    0.014900    0.019100    0.027200    0.039700    0.069000   \n",
      "50%      0.023300    0.030000    0.034200    0.044500    0.064700    0.092900   \n",
      "75%      0.035300    0.047400    0.054700    0.062700    0.107000    0.145200   \n",
      "max      0.131300    0.233900    0.305900    0.426400    0.401000    0.382300   \n",
      "\n",
      "               6           7           8          9      ...              50  \\\n",
      "count  145.000000  145.000000  145.000000  145.00000     ...      145.000000   \n",
      "mean     0.122453    0.135608    0.181346    0.21665     ...        0.016110   \n",
      "std      0.060247    0.081476    0.116597    0.13466     ...        0.012757   \n",
      "min      0.003300    0.005500    0.011700    0.01930     ...        0.000000   \n",
      "25%      0.085300    0.083600    0.097300    0.12340     ...        0.008600   \n",
      "50%      0.105600    0.113400    0.159300    0.20130     ...        0.013700   \n",
      "75%      0.159700    0.170200    0.242300    0.27920     ...        0.020600   \n",
      "max      0.372900    0.426200    0.682800    0.71060     ...        0.100400   \n",
      "\n",
      "               51          52          53          54          55          56  \\\n",
      "count  145.000000  145.000000  145.000000  145.000000  145.000000  145.000000   \n",
      "mean     0.013616    0.010866    0.011086    0.009184    0.008420    0.007467   \n",
      "std      0.010305    0.006872    0.007311    0.006984    0.005751    0.005671   \n",
      "min      0.001300    0.000500    0.001000    0.001100    0.000400    0.000300   \n",
      "25%      0.007200    0.005600    0.005100    0.004200    0.004500    0.003700   \n",
      "50%      0.010600    0.009700    0.009500    0.007500    0.007200    0.005600   \n",
      "75%      0.016400    0.014700    0.015000    0.012100    0.011600    0.009900   \n",
      "max      0.070900    0.036100    0.033500    0.044700    0.039400    0.035500   \n",
      "\n",
      "               57          58          59  \n",
      "count  145.000000  145.000000  145.000000  \n",
      "mean     0.007689    0.008167    0.006616  \n",
      "std      0.006084    0.006492    0.005273  \n",
      "min      0.000300    0.000100    0.000600  \n",
      "25%      0.003500    0.004000    0.003100  \n",
      "50%      0.005700    0.006500    0.005500  \n",
      "75%      0.010200    0.010500    0.008600  \n",
      "max      0.044000    0.036400    0.043900  \n",
      "\n",
      "[8 rows x 60 columns]\n",
      "              0          1          2          3          4          5   \\\n",
      "count  63.000000  63.000000  63.000000  63.000000  63.000000  63.000000   \n",
      "mean    0.028283   0.039854   0.044049   0.052435   0.066457   0.090165   \n",
      "std     0.024766   0.030351   0.036047   0.041347   0.043932   0.045446   \n",
      "min     0.001500   0.004100   0.002400   0.005800   0.007900   0.011600   \n",
      "25%     0.013050   0.020550   0.018100   0.021050   0.034600   0.061550   \n",
      "50%     0.020900   0.031500   0.035200   0.043200   0.052900   0.087100   \n",
      "75%     0.035150   0.048100   0.061250   0.069300   0.091900   0.114500   \n",
      "max     0.137100   0.163200   0.163600   0.166000   0.177600   0.229400   \n",
      "\n",
      "              6          7          8          9     ...             50  \\\n",
      "count  63.000000  63.000000  63.000000  63.000000    ...      63.000000   \n",
      "mean    0.120121   0.132938   0.170308   0.188948    ...       0.015975   \n",
      "std     0.065667   0.093731   0.123014   0.132901    ...       0.010173   \n",
      "min     0.013000   0.012400   0.007500   0.011300    ...       0.000900   \n",
      "25%     0.072850   0.075600   0.095750   0.094750    ...       0.008150   \n",
      "50%     0.113900   0.107100   0.139800   0.147600    ...       0.014300   \n",
      "75%     0.147500   0.168400   0.196800   0.227950    ...       0.021650   \n",
      "max     0.332200   0.459000   0.658700   0.660900    ...       0.048000   \n",
      "\n",
      "              51         52         53         54         55         56  \\\n",
      "count  63.000000  63.000000  63.000000  63.000000  63.000000  63.000000   \n",
      "mean    0.012970   0.010348   0.010608   0.009535   0.007765   0.008633   \n",
      "std     0.007933   0.007520   0.007325   0.007372   0.005721   0.006008   \n",
      "min     0.000800   0.001400   0.001800   0.000600   0.001200   0.001100   \n",
      "25%     0.007750   0.004100   0.005550   0.004150   0.004150   0.003750   \n",
      "50%     0.012000   0.008600   0.008800   0.007200   0.006700   0.007600   \n",
      "75%     0.017300   0.015100   0.013500   0.012500   0.009100   0.010850   \n",
      "max     0.045900   0.039000   0.035200   0.037200   0.032600   0.025800   \n",
      "\n",
      "              57         58         59  \n",
      "count  63.000000  63.000000  63.000000  \n",
      "mean    0.008548   0.007422   0.006257  \n",
      "std     0.007298   0.005413   0.004454  \n",
      "min     0.000900   0.000500   0.001100  \n",
      "25%     0.003650   0.003400   0.003100  \n",
      "50%     0.005900   0.006000   0.004800  \n",
      "75%     0.010950   0.009250   0.008250  \n",
      "max     0.037700   0.024500   0.021800  \n",
      "\n",
      "[8 rows x 60 columns]\n"
     ]
    }
   ],
   "source": [
    "# Describing the database\n",
    "#train_df[60].value_counts()\n",
    "print(train_df.iloc[:,:-1].describe())\n",
    "print(test_df.iloc[:,:-1].describe())"
   ]
  },
  {
   "cell_type": "code",
   "execution_count": 8,
   "metadata": {
    "scrolled": true
   },
   "outputs": [
    {
     "name": "stdout",
     "output_type": "stream",
     "text": [
      "X_train shape: (145, 60)\n",
      "y_train shape: (145,)\n",
      "X_test shape: (63, 60)\n",
      "y_test shape: (63,)\n",
      "<class 'numpy.ndarray'>\n",
      "<class 'numpy.ndarray'>\n",
      "[[0.0264 0.0071 0.0342 ... 0.0077 0.0078 0.0066]\n",
      " [0.0086 0.0215 0.0242 ... 0.005  0.0024 0.003 ]\n",
      " [0.0394 0.042  0.0446 ... 0.0068 0.0053 0.0087]\n",
      " ...\n",
      " [0.0202 0.0104 0.0325 ... 0.0054 0.0073 0.0054]\n",
      " [0.0269 0.0383 0.0505 ... 0.0027 0.0055 0.0057]\n",
      " [0.0261 0.0266 0.0223 ... 0.0021 0.0028 0.0023]]\n",
      "[1. 0. 1. 1. 1. 0. 1. 0. 1. 1. 1. 1. 1. 0. 1. 0. 1. 1. 0. 0. 0. 0. 0. 1.\n",
      " 0. 0. 0. 1. 1. 0. 1. 1. 1. 1. 0. 1. 1. 1. 1. 0. 0. 1. 1. 0. 0. 0. 0. 1.\n",
      " 1. 0. 1. 1. 1. 1. 0. 1. 1. 0. 0. 0. 1. 1. 1. 1. 1. 1. 0. 0. 1. 0. 1. 1.\n",
      " 1. 1. 0. 0. 1. 1. 0. 0. 0. 0. 1. 1. 1. 1. 1. 0. 1. 1. 1. 0. 0. 0. 0. 0.\n",
      " 1. 0. 0. 1. 1. 1. 1. 1. 1. 0. 0. 1. 1. 0. 0. 1. 1. 0. 1. 1. 1. 0. 0. 1.\n",
      " 0. 1. 1. 0. 0. 1. 1. 1. 0. 0. 1. 0. 0. 1. 0. 1. 1. 0. 0. 0. 0. 0. 0. 1.\n",
      " 1.]\n"
     ]
    }
   ],
   "source": [
    "# 145 samples from train/validation dataframe(~70%) + 63 samples from test dataframe (~30%) =  208 samples\n",
    "X_train = train_df.iloc[:,:-1].values   # Independent variables\n",
    "y_train = train_df.iloc[:, -1].values   # Dependent variables (classes)\n",
    "\n",
    "X_test = test_df.iloc[:,:-1].values     # Independent variables\n",
    "y_test = test_df.iloc[:, -1].values     # Dependent variables (classes)\n",
    "print ('X_train shape:', X_train.shape)\n",
    "print ('y_train shape:', y_train.shape)\n",
    "print ('X_test shape:', X_test.shape)\n",
    "print ('y_test shape:', y_test.shape)\n",
    "print(type(X_train))\n",
    "print(type(y_train))\n",
    "print(X_train)\n",
    "print(y_train)"
   ]
  },
  {
   "cell_type": "markdown",
   "metadata": {},
   "source": [
    "---"
   ]
  },
  {
   "cell_type": "code",
   "execution_count": 9,
   "metadata": {
    "scrolled": true
   },
   "outputs": [
    {
     "name": "stdout",
     "output_type": "stream",
     "text": [
      "Epoch 0 Error: 65.000 Accuracy: 55.172 (%)\n",
      "Epoch 1000 Error: 17.000 Accuracy: 88.276 (%)\n",
      "Epoch 2000 Error: 22.000 Accuracy: 84.828 (%)\n",
      "Epoch 3000 Error: 19.000 Accuracy: 86.897 (%)\n",
      "Epoch 4000 Error: 20.000 Accuracy: 86.207 (%)\n",
      "Epoch 5000 Error: 16.000 Accuracy: 88.966 (%)\n",
      "Epoch 6000 Error: 12.000 Accuracy: 91.724 (%)\n",
      "Epoch 7000 Error: 18.000 Accuracy: 87.586 (%)\n",
      "Epoch 8000 Error: 12.000 Accuracy: 91.724 (%)\n",
      "Epoch 9000 Error: 18.000 Accuracy: 87.586 (%)\n",
      "Epoch 10000 Error: 12.000 Accuracy: 91.724 (%)\n",
      "Epoch 11000 Error: 10.000 Accuracy: 93.103 (%)\n",
      "Epoch 12000 Error: 10.000 Accuracy: 93.103 (%)\n",
      "Epoch 13000 Error: 10.000 Accuracy: 93.103 (%)\n",
      "Epoch 14000 Error: 11.000 Accuracy: 92.414 (%)\n",
      "Epoch 15000 Error: 8.000 Accuracy: 94.483 (%)\n",
      "Epoch 16000 Error: 13.000 Accuracy: 91.034 (%)\n",
      "Epoch 17000 Error: 6.000 Accuracy: 95.862 (%)\n",
      "Epoch 18000 Error: 14.000 Accuracy: 90.345 (%)\n",
      "Epoch 19000 Error: 10.000 Accuracy: 93.103 (%)\n",
      "Epoch 20000 Error: 4.000 Accuracy: 97.241 (%)\n",
      "Epoch 21000 Error: 6.000 Accuracy: 95.862 (%)\n",
      "Epoch 22000 Error: 7.000 Accuracy: 95.172 (%)\n",
      "Epoch 23000 Error: 10.000 Accuracy: 93.103 (%)\n",
      "Epoch 24000 Error: 9.000 Accuracy: 93.793 (%)\n",
      "Epoch 25000 Error: 1.000 Accuracy: 99.310 (%)\n",
      "Epoch 26000 Error: 5.000 Accuracy: 96.552 (%)\n",
      "Epoch 27000 Error: 7.000 Accuracy: 95.172 (%)\n",
      "Epoch 28000 Error: 8.000 Accuracy: 94.483 (%)\n",
      "Epoch 29000 Error: 0.000 Accuracy: 100.000 (%)\n"
     ]
    },
    {
     "data": {
      "image/png": "[encoded data removed]",
      "text/plain": [
       "<Figure size 432x288 with 1 Axes>"
      ]
     },
     "metadata": {
      "needs_background": "light"
     },
     "output_type": "display_data"
    },
    {
     "data": {
      "image/png": "[encoded data removed]",
      "text/plain": [
       "<Figure size 432x288 with 1 Axes>"
      ]
     },
     "metadata": {
      "needs_background": "light"
     },
     "output_type": "display_data"
    },
    {
     "name": "stdout",
     "output_type": "stream",
     "text": [
      "Weights:\n",
      "[  9.58063219   1.15990255 -15.30244988  11.81141837  -4.05400333\n",
      "   2.19269137 -13.93454208  -4.28135612   4.24316356   2.82593763\n",
      "   2.02157238   9.62950586  -4.95468289  -2.89840304   3.57145124\n",
      "  -2.37592346  -4.57450189   4.22094926   2.74302956  -3.34170404\n",
      "   1.07225733   4.0602943   -3.67611596   7.50307708  -2.90106861\n",
      "  -3.49157197   4.05837124  -2.87159365   2.90829743   3.33131376\n",
      "  -7.32461211   3.95142149   1.83042464  -2.98761676   1.52709536\n",
      "  -2.31738852  -2.91876853  -0.20762811   3.63843934  -5.31920415\n",
      "   1.89815223   0.84284447   4.59911146  -2.07839599   2.88058575\n",
      "   4.59422148 -12.09657034  17.05761627   8.61833916 -16.56628172\n",
      "  18.29572165   6.82301514   9.73941684  10.1120992   -8.58280049\n",
      "  -3.49498098  -1.67967577   3.07056626   5.21849832   5.39490315\n",
      "  -4.86003176]\n",
      "Confusion matrix on test database:\n",
      "[[25  8]\n",
      " [ 7 23]]\n"
     ]
    }
   ],
   "source": [
    "class Neuron:\n",
    "    \n",
    "    # Constructor\n",
    "    \n",
    "    def __init__(self, n_inputs, lRate):\n",
    "        self.lRate = lRate\n",
    "        self.weights = np.random.rand(n_inputs + 1) * 0.2 - 0.1 # Num. features + 1 (bias)\n",
    "    \n",
    "    # Prediction\n",
    "\n",
    "    def predict(self, inputs):\n",
    "        activation = np.dot(np.append(inputs, 1.0), self.weights)\n",
    "        return 1.0 if activation >= 0.0 else 0.0\n",
    "\n",
    "    # Learn\n",
    "\n",
    "    def learn(self, trainingSet_inputs, trainingSet_outputs, nEpoch):\n",
    "        #weights = np.random.rand(61) * 0.2 - 0.1 # Num. features + 1 (bias)\n",
    "        error_list = []\n",
    "        accuracy_list = []\n",
    "        for epoch in range(nEpoch):\n",
    "            sumError = 0.0\n",
    "            for inputs, output in zip(trainingSet_inputs, trainingSet_outputs) :\n",
    "                prediction = self.predict(inputs)\n",
    "                error = output - prediction\n",
    "                sumError += error ** 2\n",
    "                self.weights = self.weights + self.lRate * error * np.append(inputs, 1.0)\n",
    "            error_list.append(sumError)\n",
    "            accuracy = 100*(len(trainingSet_outputs)-sumError)/len(trainingSet_outputs)\n",
    "            accuracy_list.append(accuracy)\n",
    "            if epoch % 1000 == 0:\n",
    "                print ('Epoch %d Error: %.3f Accuracy: %.3f (%%)' % (epoch,sumError, accuracy))\n",
    "            \n",
    "        plt.plot(error_list)\n",
    "        plt.title('Quadratic Error x Epoch')\n",
    "        plt.ylabel('Quadratic Error')\n",
    "        plt.xlabel('Epoch')\n",
    "        fig = plt.gcf() # stores figure to save it\n",
    "        fig.savefig('error.png')\n",
    "        plt.show()\n",
    "        \n",
    "        plt.plot(accuracy_list)\n",
    "        plt.title('Accuracy (%) x Epoch')\n",
    "        plt.ylabel('Accuracy')\n",
    "        plt.xlabel('Epoch')\n",
    "        fig = plt.gcf() # stores figure to save it\n",
    "        fig.savefig('accuracy.png')\n",
    "        plt.show()\n",
    "        \n",
    "        return self.weights\n",
    "\n",
    "# Main (Single neuron Perceptron)\n",
    "\n",
    "lRate      = 0.04\n",
    "nEpoch     = 30000\n",
    "n_inputs   = len(X_train[0])\n",
    "perceptron = Neuron(n_inputs, lRate)\n",
    "weights    = perceptron.learn(X_train, y_train, nEpoch)\n",
    "print ('Weights:\\n{}'.format(weights))\n",
    "y_pred = []\n",
    "for row in X_test:\n",
    "    y_pred.append(perceptron.predict(row))\n",
    "\n",
    "cm = confusion_matrix(y_test, y_pred) \n",
    "print('Confusion matrix on test database:\\n{}'.format(cm))"
   ]
  },
  {
   "cell_type": "code",
   "execution_count": 10,
   "metadata": {},
   "outputs": [],
   "source": [
    "####################################### Visualização da Matriz de Confusão ######################################################\n",
    "\n",
    "import itertools\n",
    "from sklearn.metrics import confusion_matrix\n",
    "from sklearn.utils.multiclass import unique_labels\n",
    "\n",
    "def plot_confusion_matrix(cm, classes,\n",
    "                          normalize=True,\n",
    "                          title='Matriz de Confusão',\n",
    "                          cmap=plt.cm.Blues):\n",
    "    \"\"\"\n",
    "    This function prints and plots the confusion matrix.\n",
    "    Normalization can be applied by setting `normalize=True`.\n",
    "    \"\"\"\n",
    "    if normalize:\n",
    "        cm = cm.astype('float') / cm.sum(axis=1)[:, np.newaxis]\n",
    "        print(\"Matriz de Confusão Normalizada\")\n",
    "    else:\n",
    "        print('Confusion matrix, without normalization')\n",
    "\n",
    "    plt.imshow(cm, interpolation='nearest', cmap=cmap)\n",
    "    plt.title(title)\n",
    "    plt.colorbar()\n",
    "    tick_marks = np.arange(len(classes))\n",
    "    plt.xticks(tick_marks, classes, rotation=45)\n",
    "    plt.yticks(tick_marks, classes)\n",
    "    \n",
    "    fmt = '.2f' if normalize else 'd'\n",
    "    thresh = cm.max() / 2.\n",
    "    for i, j in itertools.product(range(cm.shape[0]), range(cm.shape[1])):\n",
    "        plt.text(j, i, format(cm[i, j], fmt),\n",
    "                 horizontalalignment=\"center\",\n",
    "                 color=\"white\" if cm[i, j] > thresh else \"black\")\n",
    "\n",
    "    plt.tight_layout()\n",
    "    plt.ylabel('Classe Desejada')\n",
    "    plt.xlabel('Classe Obtida')"
   ]
  },
  {
   "cell_type": "code",
   "execution_count": 11,
   "metadata": {},
   "outputs": [
    {
     "name": "stdout",
     "output_type": "stream",
     "text": [
      "Matriz de Confusão Normalizada\n",
      "             precision    recall  f1-score   support\n",
      "\n",
      "        0.0       0.78      0.76      0.77        33\n",
      "        1.0       0.74      0.77      0.75        30\n",
      "\n",
      "avg / total       0.76      0.76      0.76        63\n",
      "\n"
     ]
    },
    {
     "data": {
      "image/png": "[encoded data removed]",
      "text/plain": [
       "<Figure size 432x288 with 2 Axes>"
      ]
     },
     "metadata": {
      "needs_background": "light"
     },
     "output_type": "display_data"
    }
   ],
   "source": [
    "from sklearn import metrics\n",
    "classes = ['Rocks', 'Mines']\n",
    "plot_confusion_matrix(cm, classes, normalize=True)\n",
    "print (metrics.classification_report(y_test, y_pred))"
   ]
  },
  {
   "cell_type": "markdown",
   "metadata": {},
   "source": [
    "---"
   ]
  }
 ],
 "metadata": {
  "kernelspec": {
   "display_name": "Python 3",
   "language": "python",
   "name": "python3"
  },
  "language_info": {
   "codemirror_mode": {
    "name": "ipython",
    "version": 3
   },
   "file_extension": ".py",
   "mimetype": "text/x-python",
   "name": "python",
   "nbconvert_exporter": "python",
   "pygments_lexer": "ipython3",
   "version": "3.7.0"
  }
 },
 "nbformat": 4,
 "nbformat_minor": 2
}
